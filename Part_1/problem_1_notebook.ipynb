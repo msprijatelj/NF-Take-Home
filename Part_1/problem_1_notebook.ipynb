{
 "metadata": {
  "language_info": {
   "codemirror_mode": {
    "name": "ipython",
    "version": 3
   },
   "file_extension": ".py",
   "mimetype": "text/x-python",
   "name": "python",
   "nbconvert_exporter": "python",
   "pygments_lexer": "ipython3",
   "version": "3.7.9-final"
  },
  "orig_nbformat": 2,
  "kernelspec": {
   "name": "python3",
   "display_name": "Python 3"
  }
 },
 "nbformat": 4,
 "nbformat_minor": 2,
 "cells": [
  {
   "cell_type": "code",
   "execution_count": 2,
   "metadata": {},
   "outputs": [],
   "source": [
    "import numpy as np\n",
    "import matplotlib as plt\n",
    "import pandas as pd"
   ]
  },
  {
   "cell_type": "code",
   "execution_count": 19,
   "metadata": {},
   "outputs": [
    {
     "output_type": "execute_result",
     "data": {
      "text/plain": [
       "                         date  patient_id       patient_date_created  score\n",
       "0  2019-08-26T13:32:43.019162        8430  2019-06-03T13:23:02.63568      6\n",
       "1  2019-11-15T17:55:11.364877        8430  2019-06-03T13:23:02.63568      1\n",
       "2  2019-10-07T18:23:29.611351       14338  2019-06-03T13:32:30.66846     10\n",
       "3  2019-11-04T20:16:28.610965       14338  2019-06-03T13:32:30.66846      7\n",
       "4  2019-12-02T20:56:55.966354       14338  2019-06-03T13:32:30.66846      9"
      ],
      "text/html": "<div>\n<style scoped>\n    .dataframe tbody tr th:only-of-type {\n        vertical-align: middle;\n    }\n\n    .dataframe tbody tr th {\n        vertical-align: top;\n    }\n\n    .dataframe thead th {\n        text-align: right;\n    }\n</style>\n<table border=\"1\" class=\"dataframe\">\n  <thead>\n    <tr style=\"text-align: right;\">\n      <th></th>\n      <th>date</th>\n      <th>patient_id</th>\n      <th>patient_date_created</th>\n      <th>score</th>\n    </tr>\n  </thead>\n  <tbody>\n    <tr>\n      <th>0</th>\n      <td>2019-08-26T13:32:43.019162</td>\n      <td>8430</td>\n      <td>2019-06-03T13:23:02.63568</td>\n      <td>6</td>\n    </tr>\n    <tr>\n      <th>1</th>\n      <td>2019-11-15T17:55:11.364877</td>\n      <td>8430</td>\n      <td>2019-06-03T13:23:02.63568</td>\n      <td>1</td>\n    </tr>\n    <tr>\n      <th>2</th>\n      <td>2019-10-07T18:23:29.611351</td>\n      <td>14338</td>\n      <td>2019-06-03T13:32:30.66846</td>\n      <td>10</td>\n    </tr>\n    <tr>\n      <th>3</th>\n      <td>2019-11-04T20:16:28.610965</td>\n      <td>14338</td>\n      <td>2019-06-03T13:32:30.66846</td>\n      <td>7</td>\n    </tr>\n    <tr>\n      <th>4</th>\n      <td>2019-12-02T20:56:55.966354</td>\n      <td>14338</td>\n      <td>2019-06-03T13:32:30.66846</td>\n      <td>9</td>\n    </tr>\n  </tbody>\n</table>\n</div>"
     },
     "metadata": {},
     "execution_count": 19
    }
   ],
   "source": [
    "df = pd.read_csv('phq_all_final.csv')\n",
    "df.drop_duplicates(inplace=True)\n",
    "df.sort_values(by=['patient_date_created', 'date'], inplace=True)\n",
    "df.drop(labels=['type'], axis='columns', inplace=True)\n",
    "df.head()"
   ]
  },
  {
   "cell_type": "code",
   "execution_count": 22,
   "metadata": {},
   "outputs": [
    {
     "output_type": "execute_result",
     "data": {
      "text/plain": [
       "                                                       first_date  \\\n",
       "patient_id patient_date_created                                     \n",
       "8430       2019-06-03T13:23:02.63568   2019-08-26T13:32:43.019162   \n",
       "14338      2019-06-03T13:32:30.66846   2019-10-07T18:23:29.611351   \n",
       "17028      2019-06-03T14:24:06.74181    2019-09-17T14:08:49.64243   \n",
       "3788       2019-06-03T14:48:09.129756  2019-06-07T13:05:01.435941   \n",
       "6292       2019-06-03T15:13:41.387077  2019-07-16T14:32:59.141021   \n",
       "...                                                           ...   \n",
       "10683      2020-07-31T13:54:20.164253  2020-07-31T13:59:13.201741   \n",
       "12344      2020-07-31T15:06:51.04373   2020-07-31T15:08:56.079027   \n",
       "17475      2020-07-31T15:40:07.726529  2020-07-31T15:52:50.353265   \n",
       "9069       2020-07-31T17:33:27.096572  2020-07-31T17:36:57.057913   \n",
       "4870       2020-07-31T17:58:21.004418  2020-07-31T17:58:53.067462   \n",
       "\n",
       "                                                        last_date  \\\n",
       "patient_id patient_date_created                                     \n",
       "8430       2019-06-03T13:23:02.63568   2019-11-15T17:55:11.364877   \n",
       "14338      2019-06-03T13:32:30.66846   2019-12-02T20:56:55.966354   \n",
       "17028      2019-06-03T14:24:06.74181   2019-11-11T14:42:40.889057   \n",
       "3788       2019-06-03T14:48:09.129756  2019-08-10T04:44:56.461089   \n",
       "6292       2019-06-03T15:13:41.387077  2019-09-10T14:19:42.829505   \n",
       "...                                                           ...   \n",
       "10683      2020-07-31T13:54:20.164253  2020-07-31T13:59:13.201741   \n",
       "12344      2020-07-31T15:06:51.04373   2020-07-31T15:08:56.079027   \n",
       "17475      2020-07-31T15:40:07.726529  2020-07-31T15:52:50.353265   \n",
       "9069       2020-07-31T17:33:27.096572  2020-07-31T17:36:57.057913   \n",
       "4870       2020-07-31T17:58:21.004418  2020-07-31T17:58:53.067462   \n",
       "\n",
       "                                       first_score  last_score  max_score  \\\n",
       "patient_id patient_date_created                                             \n",
       "8430       2019-06-03T13:23:02.63568             6           1          6   \n",
       "14338      2019-06-03T13:32:30.66846            10           9         10   \n",
       "17028      2019-06-03T14:24:06.74181             6           9          9   \n",
       "3788       2019-06-03T14:48:09.129756            0           0          2   \n",
       "6292       2019-06-03T15:13:41.387077            5           1          5   \n",
       "...                                            ...         ...        ...   \n",
       "10683      2020-07-31T13:54:20.164253            1           1          1   \n",
       "12344      2020-07-31T15:06:51.04373             1           1          1   \n",
       "17475      2020-07-31T15:40:07.726529            7           7          7   \n",
       "9069       2020-07-31T17:33:27.096572            3           3          3   \n",
       "4870       2020-07-31T17:58:21.004418            4           4          4   \n",
       "\n",
       "                                       min_score  test_count  \n",
       "patient_id patient_date_created                               \n",
       "8430       2019-06-03T13:23:02.63568           1           2  \n",
       "14338      2019-06-03T13:32:30.66846           7           3  \n",
       "17028      2019-06-03T14:24:06.74181           6           2  \n",
       "3788       2019-06-03T14:48:09.129756          0           7  \n",
       "6292       2019-06-03T15:13:41.387077          1           3  \n",
       "...                                          ...         ...  \n",
       "10683      2020-07-31T13:54:20.164253          1           1  \n",
       "12344      2020-07-31T15:06:51.04373           1           1  \n",
       "17475      2020-07-31T15:40:07.726529          7           1  \n",
       "9069       2020-07-31T17:33:27.096572          3           1  \n",
       "4870       2020-07-31T17:58:21.004418          4           1  \n",
       "\n",
       "[15502 rows x 7 columns]"
      ],
      "text/html": "<div>\n<style scoped>\n    .dataframe tbody tr th:only-of-type {\n        vertical-align: middle;\n    }\n\n    .dataframe tbody tr th {\n        vertical-align: top;\n    }\n\n    .dataframe thead th {\n        text-align: right;\n    }\n</style>\n<table border=\"1\" class=\"dataframe\">\n  <thead>\n    <tr style=\"text-align: right;\">\n      <th></th>\n      <th></th>\n      <th>first_date</th>\n      <th>last_date</th>\n      <th>first_score</th>\n      <th>last_score</th>\n      <th>max_score</th>\n      <th>min_score</th>\n      <th>test_count</th>\n    </tr>\n    <tr>\n      <th>patient_id</th>\n      <th>patient_date_created</th>\n      <th></th>\n      <th></th>\n      <th></th>\n      <th></th>\n      <th></th>\n      <th></th>\n      <th></th>\n    </tr>\n  </thead>\n  <tbody>\n    <tr>\n      <th>8430</th>\n      <th>2019-06-03T13:23:02.63568</th>\n      <td>2019-08-26T13:32:43.019162</td>\n      <td>2019-11-15T17:55:11.364877</td>\n      <td>6</td>\n      <td>1</td>\n      <td>6</td>\n      <td>1</td>\n      <td>2</td>\n    </tr>\n    <tr>\n      <th>14338</th>\n      <th>2019-06-03T13:32:30.66846</th>\n      <td>2019-10-07T18:23:29.611351</td>\n      <td>2019-12-02T20:56:55.966354</td>\n      <td>10</td>\n      <td>9</td>\n      <td>10</td>\n      <td>7</td>\n      <td>3</td>\n    </tr>\n    <tr>\n      <th>17028</th>\n      <th>2019-06-03T14:24:06.74181</th>\n      <td>2019-09-17T14:08:49.64243</td>\n      <td>2019-11-11T14:42:40.889057</td>\n      <td>6</td>\n      <td>9</td>\n      <td>9</td>\n      <td>6</td>\n      <td>2</td>\n    </tr>\n    <tr>\n      <th>3788</th>\n      <th>2019-06-03T14:48:09.129756</th>\n      <td>2019-06-07T13:05:01.435941</td>\n      <td>2019-08-10T04:44:56.461089</td>\n      <td>0</td>\n      <td>0</td>\n      <td>2</td>\n      <td>0</td>\n      <td>7</td>\n    </tr>\n    <tr>\n      <th>6292</th>\n      <th>2019-06-03T15:13:41.387077</th>\n      <td>2019-07-16T14:32:59.141021</td>\n      <td>2019-09-10T14:19:42.829505</td>\n      <td>5</td>\n      <td>1</td>\n      <td>5</td>\n      <td>1</td>\n      <td>3</td>\n    </tr>\n    <tr>\n      <th>...</th>\n      <th>...</th>\n      <td>...</td>\n      <td>...</td>\n      <td>...</td>\n      <td>...</td>\n      <td>...</td>\n      <td>...</td>\n      <td>...</td>\n    </tr>\n    <tr>\n      <th>10683</th>\n      <th>2020-07-31T13:54:20.164253</th>\n      <td>2020-07-31T13:59:13.201741</td>\n      <td>2020-07-31T13:59:13.201741</td>\n      <td>1</td>\n      <td>1</td>\n      <td>1</td>\n      <td>1</td>\n      <td>1</td>\n    </tr>\n    <tr>\n      <th>12344</th>\n      <th>2020-07-31T15:06:51.04373</th>\n      <td>2020-07-31T15:08:56.079027</td>\n      <td>2020-07-31T15:08:56.079027</td>\n      <td>1</td>\n      <td>1</td>\n      <td>1</td>\n      <td>1</td>\n      <td>1</td>\n    </tr>\n    <tr>\n      <th>17475</th>\n      <th>2020-07-31T15:40:07.726529</th>\n      <td>2020-07-31T15:52:50.353265</td>\n      <td>2020-07-31T15:52:50.353265</td>\n      <td>7</td>\n      <td>7</td>\n      <td>7</td>\n      <td>7</td>\n      <td>1</td>\n    </tr>\n    <tr>\n      <th>9069</th>\n      <th>2020-07-31T17:33:27.096572</th>\n      <td>2020-07-31T17:36:57.057913</td>\n      <td>2020-07-31T17:36:57.057913</td>\n      <td>3</td>\n      <td>3</td>\n      <td>3</td>\n      <td>3</td>\n      <td>1</td>\n    </tr>\n    <tr>\n      <th>4870</th>\n      <th>2020-07-31T17:58:21.004418</th>\n      <td>2020-07-31T17:58:53.067462</td>\n      <td>2020-07-31T17:58:53.067462</td>\n      <td>4</td>\n      <td>4</td>\n      <td>4</td>\n      <td>4</td>\n      <td>1</td>\n    </tr>\n  </tbody>\n</table>\n<p>15502 rows × 7 columns</p>\n</div>"
     },
     "metadata": {},
     "execution_count": 22
    }
   ],
   "source": [
    "\n",
    "\n",
    "grouped = df.groupby(['patient_id', 'patient_date_created'], sort=False)\n",
    "grouped.agg(\n",
    "    first_date = ('date', 'first'),\n",
    "    last_date = ('date', 'last'),\n",
    "    first_score = ('score', 'first'),\n",
    "    last_score = ('score', 'last'),\n",
    "    max_score = ('score', 'max'),\n",
    "    min_score = ('score', 'min'),\n",
    "    test_count = ('score', 'count')\n",
    ")\n"
   ]
  },
  {
   "cell_type": "code",
   "execution_count": null,
   "metadata": {},
   "outputs": [],
   "source": []
  }
 ]
}