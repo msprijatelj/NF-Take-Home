{
 "metadata": {
  "language_info": {
   "codemirror_mode": {
    "name": "ipython",
    "version": 3
   },
   "file_extension": ".py",
   "mimetype": "text/x-python",
   "name": "python",
   "nbconvert_exporter": "python",
   "pygments_lexer": "ipython3",
   "version": "3.7.9-final"
  },
  "orig_nbformat": 2,
  "kernelspec": {
   "name": "python3",
   "display_name": "Python 3"
  }
 },
 "nbformat": 4,
 "nbformat_minor": 2,
 "cells": [
  {
   "cell_type": "code",
   "execution_count": 2,
   "metadata": {},
   "outputs": [],
   "source": [
    "import numpy as np\n",
    "import matplotlib as plt\n",
    "import pandas as pd"
   ]
  },
  {
   "cell_type": "code",
   "execution_count": 27,
   "metadata": {},
   "outputs": [
    {
     "output_type": "execute_result",
     "data": {
      "text/plain": [
       "                        date  patient_id       patient_date_created  score\n",
       "0 2019-08-26 13:32:43.019162        8430 2019-06-03 13:23:02.635680      6\n",
       "1 2019-11-15 17:55:11.364877        8430 2019-06-03 13:23:02.635680      1\n",
       "2 2019-10-07 18:23:29.611351       14338 2019-06-03 13:32:30.668460     10\n",
       "3 2019-11-04 20:16:28.610965       14338 2019-06-03 13:32:30.668460      7\n",
       "4 2019-12-02 20:56:55.966354       14338 2019-06-03 13:32:30.668460      9"
      ],
      "text/html": "<div>\n<style scoped>\n    .dataframe tbody tr th:only-of-type {\n        vertical-align: middle;\n    }\n\n    .dataframe tbody tr th {\n        vertical-align: top;\n    }\n\n    .dataframe thead th {\n        text-align: right;\n    }\n</style>\n<table border=\"1\" class=\"dataframe\">\n  <thead>\n    <tr style=\"text-align: right;\">\n      <th></th>\n      <th>date</th>\n      <th>patient_id</th>\n      <th>patient_date_created</th>\n      <th>score</th>\n    </tr>\n  </thead>\n  <tbody>\n    <tr>\n      <th>0</th>\n      <td>2019-08-26 13:32:43.019162</td>\n      <td>8430</td>\n      <td>2019-06-03 13:23:02.635680</td>\n      <td>6</td>\n    </tr>\n    <tr>\n      <th>1</th>\n      <td>2019-11-15 17:55:11.364877</td>\n      <td>8430</td>\n      <td>2019-06-03 13:23:02.635680</td>\n      <td>1</td>\n    </tr>\n    <tr>\n      <th>2</th>\n      <td>2019-10-07 18:23:29.611351</td>\n      <td>14338</td>\n      <td>2019-06-03 13:32:30.668460</td>\n      <td>10</td>\n    </tr>\n    <tr>\n      <th>3</th>\n      <td>2019-11-04 20:16:28.610965</td>\n      <td>14338</td>\n      <td>2019-06-03 13:32:30.668460</td>\n      <td>7</td>\n    </tr>\n    <tr>\n      <th>4</th>\n      <td>2019-12-02 20:56:55.966354</td>\n      <td>14338</td>\n      <td>2019-06-03 13:32:30.668460</td>\n      <td>9</td>\n    </tr>\n  </tbody>\n</table>\n</div>"
     },
     "metadata": {},
     "execution_count": 27
    }
   ],
   "source": [
    "df = pd.read_csv('phq_all_final.csv')\n",
    "df.drop_duplicates(inplace=True)\n",
    "df.sort_values(by=['patient_date_created', 'date'], inplace=True)\n",
    "df.drop(labels=['type'], axis='columns', inplace=True)\n",
    "df['date'] = pd.to_datetime(df['date'])\n",
    "df['patient_date_created'] = pd.to_datetime(df['patient_date_created'])\n",
    "df.head()"
   ]
  },
  {
   "cell_type": "code",
   "execution_count": 30,
   "metadata": {},
   "outputs": [
    {
     "output_type": "execute_result",
     "data": {
      "text/plain": [
       "       patient_id       patient_date_created                 first_date  \\\n",
       "0            8430 2019-06-03 13:23:02.635680 2019-08-26 13:32:43.019162   \n",
       "1           14338 2019-06-03 13:32:30.668460 2019-10-07 18:23:29.611351   \n",
       "2           17028 2019-06-03 14:24:06.741810 2019-09-17 14:08:49.642430   \n",
       "3            3788 2019-06-03 14:48:09.129756 2019-06-07 13:05:01.435941   \n",
       "4            6292 2019-06-03 15:13:41.387077 2019-07-16 14:32:59.141021   \n",
       "...           ...                        ...                        ...   \n",
       "15497       10683 2020-07-31 13:54:20.164253 2020-07-31 13:59:13.201741   \n",
       "15498       12344 2020-07-31 15:06:51.043730 2020-07-31 15:08:56.079027   \n",
       "15499       17475 2020-07-31 15:40:07.726529 2020-07-31 15:52:50.353265   \n",
       "15500        9069 2020-07-31 17:33:27.096572 2020-07-31 17:36:57.057913   \n",
       "15501        4870 2020-07-31 17:58:21.004418 2020-07-31 17:58:53.067462   \n",
       "\n",
       "                       last_date  first_score  last_score  max_score  \\\n",
       "0     2019-11-15 17:55:11.364877            6           1          6   \n",
       "1     2019-12-02 20:56:55.966354           10           9         10   \n",
       "2     2019-11-11 14:42:40.889057            6           9          9   \n",
       "3     2019-08-10 04:44:56.461089            0           0          2   \n",
       "4     2019-09-10 14:19:42.829505            5           1          5   \n",
       "...                          ...          ...         ...        ...   \n",
       "15497 2020-07-31 13:59:13.201741            1           1          1   \n",
       "15498 2020-07-31 15:08:56.079027            1           1          1   \n",
       "15499 2020-07-31 15:52:50.353265            7           7          7   \n",
       "15500 2020-07-31 17:36:57.057913            3           3          3   \n",
       "15501 2020-07-31 17:58:53.067462            4           4          4   \n",
       "\n",
       "       min_score  test_count  \n",
       "0              1           2  \n",
       "1              7           3  \n",
       "2              6           2  \n",
       "3              0           7  \n",
       "4              1           3  \n",
       "...          ...         ...  \n",
       "15497          1           1  \n",
       "15498          1           1  \n",
       "15499          7           1  \n",
       "15500          3           1  \n",
       "15501          4           1  \n",
       "\n",
       "[15502 rows x 9 columns]"
      ],
      "text/html": "<div>\n<style scoped>\n    .dataframe tbody tr th:only-of-type {\n        vertical-align: middle;\n    }\n\n    .dataframe tbody tr th {\n        vertical-align: top;\n    }\n\n    .dataframe thead th {\n        text-align: right;\n    }\n</style>\n<table border=\"1\" class=\"dataframe\">\n  <thead>\n    <tr style=\"text-align: right;\">\n      <th></th>\n      <th>patient_id</th>\n      <th>patient_date_created</th>\n      <th>first_date</th>\n      <th>last_date</th>\n      <th>first_score</th>\n      <th>last_score</th>\n      <th>max_score</th>\n      <th>min_score</th>\n      <th>test_count</th>\n    </tr>\n  </thead>\n  <tbody>\n    <tr>\n      <th>0</th>\n      <td>8430</td>\n      <td>2019-06-03 13:23:02.635680</td>\n      <td>2019-08-26 13:32:43.019162</td>\n      <td>2019-11-15 17:55:11.364877</td>\n      <td>6</td>\n      <td>1</td>\n      <td>6</td>\n      <td>1</td>\n      <td>2</td>\n    </tr>\n    <tr>\n      <th>1</th>\n      <td>14338</td>\n      <td>2019-06-03 13:32:30.668460</td>\n      <td>2019-10-07 18:23:29.611351</td>\n      <td>2019-12-02 20:56:55.966354</td>\n      <td>10</td>\n      <td>9</td>\n      <td>10</td>\n      <td>7</td>\n      <td>3</td>\n    </tr>\n    <tr>\n      <th>2</th>\n      <td>17028</td>\n      <td>2019-06-03 14:24:06.741810</td>\n      <td>2019-09-17 14:08:49.642430</td>\n      <td>2019-11-11 14:42:40.889057</td>\n      <td>6</td>\n      <td>9</td>\n      <td>9</td>\n      <td>6</td>\n      <td>2</td>\n    </tr>\n    <tr>\n      <th>3</th>\n      <td>3788</td>\n      <td>2019-06-03 14:48:09.129756</td>\n      <td>2019-06-07 13:05:01.435941</td>\n      <td>2019-08-10 04:44:56.461089</td>\n      <td>0</td>\n      <td>0</td>\n      <td>2</td>\n      <td>0</td>\n      <td>7</td>\n    </tr>\n    <tr>\n      <th>4</th>\n      <td>6292</td>\n      <td>2019-06-03 15:13:41.387077</td>\n      <td>2019-07-16 14:32:59.141021</td>\n      <td>2019-09-10 14:19:42.829505</td>\n      <td>5</td>\n      <td>1</td>\n      <td>5</td>\n      <td>1</td>\n      <td>3</td>\n    </tr>\n    <tr>\n      <th>...</th>\n      <td>...</td>\n      <td>...</td>\n      <td>...</td>\n      <td>...</td>\n      <td>...</td>\n      <td>...</td>\n      <td>...</td>\n      <td>...</td>\n      <td>...</td>\n    </tr>\n    <tr>\n      <th>15497</th>\n      <td>10683</td>\n      <td>2020-07-31 13:54:20.164253</td>\n      <td>2020-07-31 13:59:13.201741</td>\n      <td>2020-07-31 13:59:13.201741</td>\n      <td>1</td>\n      <td>1</td>\n      <td>1</td>\n      <td>1</td>\n      <td>1</td>\n    </tr>\n    <tr>\n      <th>15498</th>\n      <td>12344</td>\n      <td>2020-07-31 15:06:51.043730</td>\n      <td>2020-07-31 15:08:56.079027</td>\n      <td>2020-07-31 15:08:56.079027</td>\n      <td>1</td>\n      <td>1</td>\n      <td>1</td>\n      <td>1</td>\n      <td>1</td>\n    </tr>\n    <tr>\n      <th>15499</th>\n      <td>17475</td>\n      <td>2020-07-31 15:40:07.726529</td>\n      <td>2020-07-31 15:52:50.353265</td>\n      <td>2020-07-31 15:52:50.353265</td>\n      <td>7</td>\n      <td>7</td>\n      <td>7</td>\n      <td>7</td>\n      <td>1</td>\n    </tr>\n    <tr>\n      <th>15500</th>\n      <td>9069</td>\n      <td>2020-07-31 17:33:27.096572</td>\n      <td>2020-07-31 17:36:57.057913</td>\n      <td>2020-07-31 17:36:57.057913</td>\n      <td>3</td>\n      <td>3</td>\n      <td>3</td>\n      <td>3</td>\n      <td>1</td>\n    </tr>\n    <tr>\n      <th>15501</th>\n      <td>4870</td>\n      <td>2020-07-31 17:58:21.004418</td>\n      <td>2020-07-31 17:58:53.067462</td>\n      <td>2020-07-31 17:58:53.067462</td>\n      <td>4</td>\n      <td>4</td>\n      <td>4</td>\n      <td>4</td>\n      <td>1</td>\n    </tr>\n  </tbody>\n</table>\n<p>15502 rows × 9 columns</p>\n</div>"
     },
     "metadata": {},
     "execution_count": 30
    }
   ],
   "source": [
    "grouped = df.groupby(['patient_id', 'patient_date_created'], sort=False)\n",
    "grouped.agg(\n",
    "    first_date = ('date', 'first'),\n",
    "    last_date = ('date', 'last'),\n",
    "    first_score = ('score', 'first'),\n",
    "    last_score = ('score', 'last'),\n",
    "    max_score = ('score', 'max'),\n",
    "    min_score = ('score', 'min'),\n",
    "    test_count = ('score', 'count')\n",
    ").reset_index()\n"
   ]
  },
  {
   "cell_type": "code",
   "execution_count": null,
   "metadata": {},
   "outputs": [],
   "source": []
  }
 ]
}